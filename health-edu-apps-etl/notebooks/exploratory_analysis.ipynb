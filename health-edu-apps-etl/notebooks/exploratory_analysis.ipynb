{
 "cells": [
  {
   "cell_type": "code",
   "execution_count": null,
   "metadata": {
    "vscode": {
     "languageId": "plaintext"
    }
   },
   "outputs": [],
   "source": [
    "import polars as pl\n",
    "import matplotlib.pyplot as plt\n",
    "import seaborn as sns\n",
    "import pandas as pd\n",
    "import os"
   ]
  },
  {
   "cell_type": "code",
   "execution_count": null,
   "metadata": {
    "vscode": {
     "languageId": "plaintext"
    }
   },
   "outputs": [],
   "source": [
    "# 📌 Caminho do arquivo consolidado\n",
    "processed_data_path = \"data/processed/articles.parquet\"\n",
    "\n",
    "# 📌 Verificar se o arquivo existe\n",
    "if not os.path.exists(processed_data_path):\n",
    "    raise FileNotFoundError(f\"Arquivo {processed_data_path} não encontrado!\")\n",
    "\n",
    "# 📌 Carregar os dados processados\n",
    "df = pl.read_parquet(processed_data_path)\n",
    "\n",
    "# 📌 Converter para Pandas para facilitar visualizações\n",
    "df_pd = df.to_pandas()"
   ]
  },
  {
   "cell_type": "code",
   "execution_count": null,
   "metadata": {
    "vscode": {
     "languageId": "plaintext"
    }
   },
   "outputs": [],
   "source": [
    "# 📊 Estatísticas básicas\n",
    "stats = {\n",
    "    \"Total de artigos\": len(df_pd),\n",
    "    \"Bases de dados únicas\": df_pd[\"source\"].nunique(),\n",
    "    \"Periódicos únicos\": df_pd[\"journal\"].nunique(),\n",
    "    \"Autores únicos\": df_pd[\"authors\"].nunique(),\n",
    "}"
   ]
  },
  {
   "cell_type": "code",
   "execution_count": null,
   "metadata": {
    "vscode": {
     "languageId": "plaintext"
    }
   },
   "outputs": [],
   "source": [
    "# 📊 Contagem de artigos por base de dados\n",
    "plt.figure(figsize=(10, 5))\n",
    "sns.countplot(y=df_pd[\"source\"], order=df_pd[\"source\"].value_counts().index, palette=\"viridis\")\n",
    "plt.xlabel(\"Quantidade de Artigos\")\n",
    "plt.ylabel(\"Base de Dados\")\n",
    "plt.title(\"Distribuição de Artigos por Base de Dados\")\n",
    "plt.show()"
   ]
  },
  {
   "cell_type": "code",
   "execution_count": null,
   "metadata": {
    "vscode": {
     "languageId": "plaintext"
    }
   },
   "outputs": [],
   "source": [
    "# 📊 Distribuição dos artigos por ano\n",
    "df_pd[\"pub_date\"] = pd.to_datetime(df_pd[\"pub_date\"], errors=\"coerce\")\n",
    "df_pd[\"Ano\"] = df_pd[\"pub_date\"].dt.year\n",
    "\n",
    "plt.figure(figsize=(10, 5))\n",
    "sns.histplot(df_pd[\"Ano\"].dropna(), bins=15, kde=True, color=\"blue\")\n",
    "plt.xlabel(\"Ano de Publicação\")\n",
    "plt.ylabel(\"Quantidade de Artigos\")\n",
    "plt.title(\"Distribuição dos Artigos ao Longo do Tempo\")\n",
    "plt.show()"
   ]
  },
  {
   "cell_type": "code",
   "execution_count": null,
   "metadata": {
    "vscode": {
     "languageId": "plaintext"
    }
   },
   "outputs": [],
   "source": [
    "# 📊 Top 10 periódicos com mais artigos\n",
    "top_journals = df_pd[\"journal\"].value_counts().head(10)\n",
    "\n",
    "plt.figure(figsize=(10, 5))\n",
    "sns.barplot(x=top_journals.values, y=top_journals.index, palette=\"magma\")\n",
    "plt.xlabel(\"Quantidade de Artigos\")\n",
    "plt.ylabel(\"Periódico\")\n",
    "plt.title(\"Top 10 Periódicos com Mais Artigos Publicados\")\n",
    "plt.show()"
   ]
  },
  {
   "cell_type": "code",
   "execution_count": null,
   "metadata": {
    "vscode": {
     "languageId": "plaintext"
    }
   },
   "outputs": [],
   "source": [
    "# Exibir estatísticas básicas\n",
    "import ace_tools as tools\n",
    "\n",
    "stats_df = pd.DataFrame(stats.items(), columns=[\"Métrica\", \"Valor\"])\n",
    "tools.display_dataframe_to_user(name=\"Estatísticas Básicas\", dataframe=stats_df)"
   ]
  }
 ],
 "metadata": {
  "language_info": {
   "name": "python"
  }
 },
 "nbformat": 4,
 "nbformat_minor": 2
}
